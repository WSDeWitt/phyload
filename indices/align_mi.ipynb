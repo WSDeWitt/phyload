{
 "cells": [
  {
   "cell_type": "code",
   "execution_count": 9,
   "metadata": {},
   "outputs": [],
   "source": [
    "import numpy as np\n",
    "import pandas as pd\n",
    "from matplotlib import pyplot as plt\n",
    "import seaborn as sns\n",
    "from scipy.stats import skew\n",
    "%matplotlib inline"
   ]
  },
  {
   "cell_type": "markdown",
   "metadata": {},
   "source": [
    "Import our class for pairwise mutual information in an alignment"
   ]
  },
  {
   "cell_type": "code",
   "execution_count": 2,
   "metadata": {},
   "outputs": [],
   "source": [
    "from align_mi import AlignMI"
   ]
  },
  {
   "cell_type": "markdown",
   "metadata": {},
   "source": [
    "Here are Andy's simulations:"
   ]
  },
  {
   "cell_type": "code",
   "execution_count": 3,
   "metadata": {},
   "outputs": [
    {
     "name": "stdout",
     "output_type": "stream",
     "text": [
      "\u001b[34mprop-0.25_d-0\u001b[m\u001b[m/  \u001b[34mprop-0.5_d-0\u001b[m\u001b[m/   \u001b[34mprop-0.75_d-0\u001b[m\u001b[m/  \u001b[34mprop-0_d-1\u001b[m\u001b[m/     \u001b[34mprop-1_d-5\u001b[m\u001b[m/\r\n",
      "\u001b[34mprop-0.25_d-1\u001b[m\u001b[m/  \u001b[34mprop-0.5_d-1\u001b[m\u001b[m/   \u001b[34mprop-0.75_d-1\u001b[m\u001b[m/  \u001b[34mprop-1_d-0\u001b[m\u001b[m/\r\n",
      "\u001b[34mprop-0.25_d-10\u001b[m\u001b[m/ \u001b[34mprop-0.5_d-10\u001b[m\u001b[m/  \u001b[34mprop-0.75_d-10\u001b[m\u001b[m/ \u001b[34mprop-1_d-1\u001b[m\u001b[m/\r\n",
      "\u001b[34mprop-0.25_d-2\u001b[m\u001b[m/  \u001b[34mprop-0.5_d-2\u001b[m\u001b[m/   \u001b[34mprop-0.75_d-2\u001b[m\u001b[m/  \u001b[34mprop-1_d-10\u001b[m\u001b[m/\r\n",
      "\u001b[34mprop-0.25_d-5\u001b[m\u001b[m/  \u001b[34mprop-0.5_d-5\u001b[m\u001b[m/   \u001b[34mprop-0.75_d-5\u001b[m\u001b[m/  \u001b[34mprop-1_d-2\u001b[m\u001b[m/\r\n"
     ]
    }
   ],
   "source": [
    "ls ../simulation_study/preliminary/2_epistasis/"
   ]
  },
  {
   "cell_type": "markdown",
   "metadata": {},
   "source": [
    "Load two of the simulations, one without epistasis, one with half of sites epistatic"
   ]
  },
  {
   "cell_type": "code",
   "execution_count": 4,
   "metadata": {},
   "outputs": [],
   "source": [
    "mi = AlignMI('../simulation_study/preliminary/2_epistasis/prop-0_d-1/data/1.nex').mi.flatten()\n",
    "mi_epi = AlignMI('../simulation_study/preliminary/2_epistasis/prop-0.5_d-10/data/1.nex').mi.flatten()"
   ]
  },
  {
   "cell_type": "code",
   "execution_count": 5,
   "metadata": {},
   "outputs": [
    {
     "data": {
      "image/png": "[encoded data removed]",
      "text/plain": [
       "<Figure size 432x288 with 1 Axes>"
      ]
     },
     "metadata": {
      "needs_background": "light"
     },
     "output_type": "display_data"
    }
   ],
   "source": [
    "mi = mi[~np.isnan(mi)]\n",
    "sns.distplot(mi, kde=False, label='no epistasis', norm_hist=True)\n",
    "mi_epi = mi_halfepi[~np.isnan(mi_epi)]\n",
    "sns.distplot(mi_epi, kde=False, label='50% epistatic', norm_hist=True)\n",
    "plt.yscale('log')\n",
    "plt.xlabel('mutual information')\n",
    "plt.ylabel('number of site pairs')\n",
    "plt.legend()\n",
    "plt.show()"
   ]
  },
  {
   "cell_type": "code",
   "execution_count": 6,
   "metadata": {},
   "outputs": [
    {
     "data": {
      "text/plain": [
       "10.153419402801212"
      ]
     },
     "execution_count": 6,
     "metadata": {},
     "output_type": "execute_result"
    }
   ],
   "source": [
    "skew(mi)"
   ]
  },
  {
   "cell_type": "code",
   "execution_count": 7,
   "metadata": {},
   "outputs": [
    {
     "data": {
      "text/plain": [
       "14.306776300662266"
      ]
     },
     "execution_count": 7,
     "metadata": {},
     "output_type": "execute_result"
    }
   ],
   "source": [
    "skew(mi_epi)"
   ]
  },
  {
   "cell_type": "markdown",
   "metadata": {},
   "source": [
    "It seems funny that the there's a heavier tail for the no epistasis MIs.\n",
    "Maybe these aren't so comparable in absolute terms though.\n",
    "\n",
    "![](https://media.giphy.com/media/14mgxYFJHXGmoo/giphy.gif)\n",
    "\n",
    "This is just one simulation for each case—maybe we need to look at more to see anything?\n",
    "Here's a look at the MI skewness from 7 sims for each condition.\n",
    "It's 7 because there were just 7 sims for the no epistasis case in Andy's data."
   ]
  },
  {
   "cell_type": "code",
   "execution_count": null,
   "metadata": {},
   "outputs": [],
   "source": [
    "skew_noepi = []\n",
    "skew_epi = []\n",
    "for sim in range(1, 8):\n",
    "    mi = AlignMI('../simulation_study/preliminary/2_epistasis/prop-0_d-1/data/{}.nex'.format(sim)).mi.flatten()\n",
    "    skew_noepi.append(skew(mi[~np.isnan(mi)]))\n",
    "    mi = AlignMI('../simulation_study/preliminary/2_epistasis/prop-0.5_d-10/data/{}.nex'.format(sim)).mi.flatten()\n",
    "    skew_epi.append(skew(mi[~np.isnan(mi)]))    "
   ]
  },
  {
   "cell_type": "code",
   "execution_count": 12,
   "metadata": {},
   "outputs": [
    {
     "data": {
      "text/plain": [
       "[10.153419402801212,\n",
       " 10.486257711574527,\n",
       " 10.831882741204943,\n",
       " 10.968034002839959,\n",
       " 10.019649053963944,\n",
       " 11.260480009083532,\n",
       " 10.412357952462415]"
      ]
     },
     "execution_count": 12,
     "metadata": {},
     "output_type": "execute_result"
    }
   ],
   "source": [
    "skew_noepi"
   ]
  },
  {
   "cell_type": "code",
   "execution_count": 13,
   "metadata": {},
   "outputs": [
    {
     "data": {
      "text/plain": [
       "[14.306776300662266,\n",
       " 14.270584960243506,\n",
       " 14.821147772395149,\n",
       " 13.78215782871371,\n",
       " 14.096232639560492,\n",
       " 15.266334727330815,\n",
       " 12.907153770854515]"
      ]
     },
     "execution_count": 13,
     "metadata": {},
     "output_type": "execute_result"
    }
   ],
   "source": [
    "skew_epi"
   ]
  },
  {
   "cell_type": "markdown",
   "metadata": {},
   "source": [
    "Hey, those are pretty different!"
   ]
  }
 ],
 "metadata": {
  "kernelspec": {
   "display_name": "Python 3",
   "language": "python",
   "name": "python3"
  },
  "language_info": {
   "codemirror_mode": {
    "name": "ipython",
    "version": 3
   },
   "file_extension": ".py",
   "mimetype": "text/x-python",
   "name": "python",
   "nbconvert_exporter": "python",
   "pygments_lexer": "ipython3",
   "version": "3.7.2"
  }
 },
 "nbformat": 4,
 "nbformat_minor": 2
}
