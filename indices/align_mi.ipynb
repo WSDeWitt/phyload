{
 "cells": [
  {
   "cell_type": "code",
   "execution_count": 1,
   "metadata": {},
   "outputs": [],
   "source": [
    "import numpy as np\n",
    "from matplotlib import pyplot as plt\n",
    "import seaborn as sns\n",
    "from scipy.stats import skew\n",
    "%matplotlib inline"
   ]
  },
  {
   "cell_type": "markdown",
   "metadata": {},
   "source": [
    "Import our class for pairwise mutual information in an alignment"
   ]
  },
  {
   "cell_type": "code",
   "execution_count": 2,
   "metadata": {},
   "outputs": [],
   "source": [
    "from align_mi import AlignMI"
   ]
  },
  {
   "cell_type": "markdown",
   "metadata": {},
   "source": [
    "Here are Andy's simulations:"
   ]
  },
  {
   "cell_type": "code",
   "execution_count": 3,
   "metadata": {},
   "outputs": [
    {
     "name": "stdout",
     "output_type": "stream",
     "text": [
      "\u001b[34mprop-0.25_d-0\u001b[m\u001b[m/  \u001b[34mprop-0.5_d-0\u001b[m\u001b[m/   \u001b[34mprop-0.75_d-0\u001b[m\u001b[m/  \u001b[34mprop-0_d-1\u001b[m\u001b[m/     \u001b[34mprop-1_d-5\u001b[m\u001b[m/\r\n",
      "\u001b[34mprop-0.25_d-1\u001b[m\u001b[m/  \u001b[34mprop-0.5_d-1\u001b[m\u001b[m/   \u001b[34mprop-0.75_d-1\u001b[m\u001b[m/  \u001b[34mprop-1_d-0\u001b[m\u001b[m/\r\n",
      "\u001b[34mprop-0.25_d-10\u001b[m\u001b[m/ \u001b[34mprop-0.5_d-10\u001b[m\u001b[m/  \u001b[34mprop-0.75_d-10\u001b[m\u001b[m/ \u001b[34mprop-1_d-1\u001b[m\u001b[m/\r\n",
      "\u001b[34mprop-0.25_d-2\u001b[m\u001b[m/  \u001b[34mprop-0.5_d-2\u001b[m\u001b[m/   \u001b[34mprop-0.75_d-2\u001b[m\u001b[m/  \u001b[34mprop-1_d-10\u001b[m\u001b[m/\r\n",
      "\u001b[34mprop-0.25_d-5\u001b[m\u001b[m/  \u001b[34mprop-0.5_d-5\u001b[m\u001b[m/   \u001b[34mprop-0.75_d-5\u001b[m\u001b[m/  \u001b[34mprop-1_d-2\u001b[m\u001b[m/\r\n"
     ]
    }
   ],
   "source": [
    "ls ../simulation_study/preliminary/2_epistasis/"
   ]
  },
  {
   "cell_type": "markdown",
   "metadata": {},
   "source": [
    "Load two of the simulations, one without epistasis, one with half of sites epistatic"
   ]
  },
  {
   "cell_type": "code",
   "execution_count": 6,
   "metadata": {},
   "outputs": [],
   "source": [
    "mi = AlignMI('../simulation_study/preliminary/2_epistasis/prop-0_d-1/data/1.nex').mi.flatten()\n",
    "mi = mi[~np.isnan(mi)]\n",
    "mi_epi = AlignMI('../simulation_study/preliminary/2_epistasis/prop-0.5_d-10/data/1.nex').mi.flatten()\n",
    "mi_epi = mi_epi[~np.isnan(mi_epi)]"
   ]
  },
  {
   "cell_type": "code",
   "execution_count": 7,
   "metadata": {},
   "outputs": [
    {
     "data": {
      "image/png": "[encoded data removed]",
      "text/plain": [
       "<Figure size 432x288 with 1 Axes>"
      ]
     },
     "metadata": {
      "needs_background": "light"
     },
     "output_type": "display_data"
    }
   ],
   "source": [
    "sns.distplot(mi, kde=False, label='no epistasis', norm_hist=True)\n",
    "sns.distplot(mi_epi, kde=False, label='50% epistatic', norm_hist=True)\n",
    "plt.yscale('log')\n",
    "plt.xlabel('mutual information')\n",
    "plt.ylabel('number of site pairs')\n",
    "plt.legend()\n",
    "plt.show()"
   ]
  },
  {
   "cell_type": "code",
   "execution_count": 8,
   "metadata": {},
   "outputs": [
    {
     "data": {
      "text/plain": [
       "3.7092489651370264"
      ]
     },
     "execution_count": 8,
     "metadata": {},
     "output_type": "execute_result"
    }
   ],
   "source": [
    "skew(mi)"
   ]
  },
  {
   "cell_type": "code",
   "execution_count": 9,
   "metadata": {},
   "outputs": [
    {
     "data": {
      "text/plain": [
       "3.9623313805645157"
      ]
     },
     "execution_count": 9,
     "metadata": {},
     "output_type": "execute_result"
    }
   ],
   "source": [
    "skew(mi_epi)"
   ]
  },
  {
   "cell_type": "markdown",
   "metadata": {},
   "source": [
    "It seems funny that the there's a heavier tail for the no epistasis MIs.\n",
    "Maybe these aren't so comparable in absolute terms though.\n",
    "\n",
    "This is just one simulation for each case—maybe we need to look at more to see anything?\n",
    "Here's a look at the MI skewness from 7 sims for each condition.\n",
    "It's 7 because there were just 7 sims for the no epistasis case in Andy's data."
   ]
  },
  {
   "cell_type": "code",
   "execution_count": 10,
   "metadata": {},
   "outputs": [
    {
     "name": "stdout",
     "output_type": "stream",
     "text": [
      "1\n",
      "2\n",
      "3\n",
      "4\n",
      "5\n",
      "6\n",
      "7\n"
     ]
    }
   ],
   "source": [
    "skew_noepi = []\n",
    "skew_epi = []\n",
    "for sim in range(1, 8):\n",
    "    print(sim)\n",
    "    mi = AlignMI('../simulation_study/preliminary/2_epistasis/prop-0_d-1/data/{}.nex'.format(sim)).mi.flatten()\n",
    "    skew_noepi.append(skew(mi[~np.isnan(mi)]))\n",
    "    mi = AlignMI('../simulation_study/preliminary/2_epistasis/prop-0.5_d-10/data/{}.nex'.format(sim)).mi.flatten()\n",
    "    skew_epi.append(skew(mi[~np.isnan(mi)]))    "
   ]
  },
  {
   "cell_type": "code",
   "execution_count": 16,
   "metadata": {},
   "outputs": [
    {
     "data": {
      "image/png": "[encoded data removed]",
      "text/plain": [
       "<Figure size 432x288 with 1 Axes>"
      ]
     },
     "metadata": {
      "needs_background": "light"
     },
     "output_type": "display_data"
    }
   ],
   "source": [
    "sns.distplot(skew_noepi, kde=False, label='no epistasis', bins=10, norm_hist=True)\n",
    "sns.distplot(skew_epi, kde=False, label='50% epistatic', bins=10, norm_hist=True)\n",
    "plt.xlabel('skew of pairwise mutual information')\n",
    "plt.ylabel('number of simulations')\n",
    "plt.legend()\n",
    "plt.show()"
   ]
  },
  {
   "cell_type": "markdown",
   "metadata": {},
   "source": [
    "Hey, those are pretty different!"
   ]
  }
 ],
 "metadata": {
  "kernelspec": {
   "display_name": "Python 3",
   "language": "python",
   "name": "python3"
  },
  "language_info": {
   "codemirror_mode": {
    "name": "ipython",
    "version": 3
   },
   "file_extension": ".py",
   "mimetype": "text/x-python",
   "name": "python",
   "nbconvert_exporter": "python",
   "pygments_lexer": "ipython3",
   "version": "3.7.2"
  }
 },
 "nbformat": 4,
 "nbformat_minor": 2
}
